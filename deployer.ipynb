{
 "cells": [
  {
   "cell_type": "code",
   "execution_count": 3,
   "metadata": {},
   "outputs": [],
   "source": [
    "from iconsdk.exception import JSONRPCException\n",
    "from iconsdk.libs.in_memory_zip import gen_deploy_data_content\n",
    "from iconsdk.icon_service import IconService\n",
    "from iconsdk.providers.http_provider import HTTPProvider\n",
    "from iconsdk.builder.transaction_builder import CallTransactionBuilder, TransactionBuilder, DeployTransactionBuilder, DepositTransactionBuilder\n",
    "from iconsdk.builder.call_builder import CallBuilder\n",
    "from iconsdk.signed_transaction import SignedTransaction\n",
    "from iconsdk.wallet.wallet import KeyWallet\n",
    "from iconsdk.utils.convert_type import convert_hex_str_to_int\n",
    "from repeater import retry\n",
    "import requests\n",
    "\n",
    "import json\n",
    "import pickle\n",
    "\n",
    "import csv\n",
    "import os\n",
    "import time\n",
    "from pprint import pprint"
   ]
  },
  {
   "cell_type": "code",
   "execution_count": 22,
   "metadata": {},
   "outputs": [],
   "source": [
    "connections = {\n",
    "    \"mainnet\": {\"iconservice\": \"https://ctz.solidwallet.io\", \"nid\": 1},\n",
    "    \"berlin\": {\"iconservice\": \"https://berlin.net.solidwallet.io\", \"nid\": 7},\n",
    "    \"sejong\": {\"iconservice\": \"https://sejong.net.solidwallet.io\", \"nid\": 83}}\n",
    "\n",
    "network = \"mainnet\"  # set this to one of mainnet, yeouido, euljiro, pagoda, or custom\n",
    "env = connections[network]\n",
    "NID=connections[\"berlin\"][\"nid\"]\n",
    "GOVERNANCE_ADDRESS =\"cx0000000000000000000000000000000000000000\""
   ]
  },
  {
   "cell_type": "code",
   "execution_count": 8,
   "metadata": {},
   "outputs": [
    {
     "name": "stdout",
     "output_type": "stream",
     "text": [
      "{'iconservice': 'https://berlin.net.solidwallet.io', 'nid': 7}\n"
     ]
    }
   ],
   "source": [
    "print(connections[\"berlin\"])"
   ]
  },
  {
   "cell_type": "code",
   "execution_count": 30,
   "metadata": {},
   "outputs": [],
   "source": [
    "icon_service= IconService(HTTPProvider(connections[\"berlin\"][\"iconservice\"],3))\n"
   ]
  },
  {
   "cell_type": "code",
   "execution_count": 12,
   "metadata": {},
   "outputs": [],
   "source": [
    "\n",
    "@retry(JSONRPCException, tries=10, delay=1, back_off=1)\n",
    "def get_tx_result(_tx_hash):\n",
    "    tx_result = icon_service.get_transaction_result(_tx_hash)\n",
    "    return tx_result\n"
   ]
  },
  {
   "cell_type": "code",
   "execution_count": 3,
   "metadata": {},
   "outputs": [],
   "source": []
  },
  {
   "cell_type": "code",
   "execution_count": 25,
   "metadata": {},
   "outputs": [],
   "source": [
    "# cell 4\n",
    "# initialized all methods\n",
    "def get_status_and_print(to, method, response) -> int:\n",
    "    \"\"\"\n",
    "    get status and print response\n",
    "    :param to:\n",
    "    :param method:\n",
    "    :param response:\n",
    "    :return: status\n",
    "    \"\"\"\n",
    "    status = response['status']\n",
    "    print(f'SCORE {to} ::: Method {method} ::: Status: {status}')\n",
    "    if len(response[\"eventLogs\"]) > 0:\n",
    "        for item in response[\"eventLogs\"]:\n",
    "            print(f'{item} \\n')\n",
    "    if status == 0:\n",
    "        print(f'Failure: {response[\"failure\"]}')\n",
    "    return status\n",
    "\n",
    "\n",
    "def _deploy_contract(_contract_name, params):\n",
    "    deploy_transaction = DeployTransactionBuilder() \\\n",
    "        .from_(deployer_wallet.get_address()) \\\n",
    "        .to(GOVERNANCE_ADDRESS) \\\n",
    "        .nid(NID) \\\n",
    "        .nonce(100) \\\n",
    "        .content_type(\"application/zip\") \\\n",
    "        .content(gen_deploy_data_content(_contract_name)) \\\n",
    "        .params(params) \\\n",
    "        .build()\n",
    "    step_limit = icon_service.estimate_step(deploy_transaction) + 100000\n",
    "    signed_transaction = SignedTransaction(deploy_transaction, deployer_wallet, step_limit)\n",
    "    tx_hash = icon_service.send_transaction(signed_transaction)\n",
    "    res = get_tx_result(tx_hash)\n",
    "    status = get_status_and_print(_contract_name, \"deploy\", res)\n",
    "\n",
    "    return {\n",
    "        \"address\": res.get('scoreAddress', ''),\n",
    "        \"status\": status\n",
    "    }\n",
    "\n",
    "\n",
    "def deploy_contract(_contract_name,params):\n",
    "    \"\"\"\n",
    "    deploy all contracts excepts oToken and dToken\n",
    "    :param _contract_name:  name of contract - should match with package name\n",
    "    :return: SCORE address\n",
    "    \"\"\"\n",
    "    result = _deploy_contract(_contract_name,params)\n",
    "    print(\"deploy_contract -> \",result[\"status\"])\n",
    "    return result[\"address\"]\n",
    "\n",
    "def deposit_transaction(_from, _to, _value, _method=\"add\"):\n",
    "    transaction = DepositTransactionBuilder() \\\n",
    "        .from_(_from.get_address()) \\\n",
    "        .to(contracts[_to]) \\\n",
    "        .nid(3) \\\n",
    "        .value(_value) \\\n",
    "        .step_limit(1000000000) \\\n",
    "        .nonce(100) \\\n",
    "        .action(_method) \\\n",
    "        .build()\n",
    "    \n",
    "    signed_transaction = SignedTransaction(transaction, _from)\n",
    "    tx_hash = icon_service.send_transaction(signed_transaction)\n",
    "    response = get_tx_result(tx_hash)\n",
    "    status = get_status_and_print(_to, _method, response)\n",
    "    return status\n",
    "\n",
    "\n",
    "\n",
    "\n",
    "\n",
    "def send_tx(_to, _method, _params, _value, _wallet) -> int:\n",
    "    \"\"\"\n",
    "    send transaction to _to\n",
    "    :param _to: destination conract name\n",
    "    :param _method: method\n",
    "    :param _params:  parameters\n",
    "    :param _value:  value\n",
    "    :param _wallet: transaction wallet\n",
    "    :return: status of transaction\n",
    "    \"\"\"\n",
    "    print(f'Calling {_method}, with parameters {_params} on the {_to} contract.')\n",
    "    transaction = CallTransactionBuilder() \\\n",
    "        .from_(_wallet.get_address()) \\\n",
    "        .to(contracts[_to]) \\\n",
    "        .value(_value) \\\n",
    "        .step_limit(30000000) \\\n",
    "        .nid(NID) \\\n",
    "        .nonce(100) \\\n",
    "        .method(_method) \\\n",
    "        .params(_params) \\\n",
    "        .build()\n",
    "    signed_transaction = SignedTransaction(transaction, _wallet)\n",
    "    tx_hash = icon_service.send_transaction(signed_transaction)\n",
    "    response = get_tx_result(tx_hash)\n",
    "    status = get_status_and_print(_to, _method, response)\n",
    "    return status,response\n",
    "def readOnlyCall(_to, _method, _params, _wallet):\n",
    "    \"\"\"\n",
    "    send transaction to _to\n",
    "    :param _to: destination conract name\n",
    "    :param _method: method\n",
    "    :param _params:  parameters\n",
    "    :param _value:  value\n",
    "    :param _wallet: transaction wallet\n",
    "    :return: status of transaction\n",
    "    \"\"\"\n",
    "    _call = CallBuilder() \\\n",
    "        .from_(_wallet.get_address()) \\\n",
    "        .to(contracts[_to]) \\\n",
    "        .method(_method) \\\n",
    "        .params(_params) \\\n",
    "        .build()\n",
    "    result = icon_service.call(_call)\n",
    "    return result"
   ]
  },
  {
   "cell_type": "code",
   "execution_count": 13,
   "metadata": {},
   "outputs": [
    {
     "data": {
      "text/plain": [
       "'hxad4edfdb6d5834a4350a74bea5448535385c07d5'"
      ]
     },
     "execution_count": 13,
     "metadata": {},
     "output_type": "execute_result"
    }
   ],
   "source": [
    "private=\"eef769ccffeda60de514dc5e41c3d1c354efcc6ae58d8406ee03ad06b188e5b3\"\n",
    "deployer_wallet = KeyWallet.load(bytes.fromhex(private))\n",
    "deployer_wallet.get_address()"
   ]
  },
  {
   "cell_type": "code",
   "execution_count": 21,
   "metadata": {},
   "outputs": [
    {
     "name": "stdout",
     "output_type": "stream",
     "text": [
      "cx0000000000000000000000000000000000000000 42\n"
     ]
    }
   ],
   "source": [
    "a=\"cx087b4164a87fdfb7b714f3bafe9dfb050fd6b132\"\n",
    "len(a)\n",
    "b = \"cx\"+ \"0\"*40\n",
    "print(b,len(b))"
   ]
  },
  {
   "cell_type": "code",
   "execution_count": 26,
   "metadata": {},
   "outputs": [
    {
     "name": "stderr",
     "output_type": "stream",
     "text": [
      "Raised JSONRPCException while returning the custom response. Error message: {'code': -31002, 'message': 'Pending: Pending'}\n"
     ]
    },
    {
     "name": "stdout",
     "output_type": "stream",
     "text": [
      "{'code': -31002, 'message': 'Pending: Pending'} (Json rpc error), Retrying in 1 seconds...\n"
     ]
    },
    {
     "name": "stderr",
     "output_type": "stream",
     "text": [
      "Raised JSONRPCException while returning the custom response. Error message: {'code': -31003, 'message': 'Executing: Executing'}\n"
     ]
    },
    {
     "name": "stdout",
     "output_type": "stream",
     "text": [
      "{'code': -31003, 'message': 'Executing: Executing'} (Json rpc error), Retrying in 1 seconds...\n",
      "SCORE std_reference_basic ::: Method deploy ::: Status: 1\n",
      "deploy_contract ->  1\n"
     ]
    },
    {
     "data": {
      "text/plain": [
       "'cx4a90a6c841dc056c10edc8080bcb60c415bcee0c'"
      ]
     },
     "execution_count": 26,
     "metadata": {},
     "output_type": "execute_result"
    }
   ],
   "source": [
    "basic =deploy_contract(\"std_reference_basic\",{})"
   ]
  },
  {
   "cell_type": "code",
   "execution_count": 28,
   "metadata": {},
   "outputs": [
    {
     "name": "stderr",
     "output_type": "stream",
     "text": [
      "Raised JSONRPCException while returning the custom response. Error message: {'code': -31002, 'message': 'Pending: Pending'}\n"
     ]
    },
    {
     "name": "stdout",
     "output_type": "stream",
     "text": [
      "{'code': -31002, 'message': 'Pending: Pending'} (Json rpc error), Retrying in 1 seconds...\n"
     ]
    },
    {
     "name": "stderr",
     "output_type": "stream",
     "text": [
      "Raised JSONRPCException while returning the custom response. Error message: {'code': -31003, 'message': 'Executing: Executing'}\n"
     ]
    },
    {
     "name": "stdout",
     "output_type": "stream",
     "text": [
      "{'code': -31003, 'message': 'Executing: Executing'} (Json rpc error), Retrying in 1 seconds...\n"
     ]
    },
    {
     "name": "stderr",
     "output_type": "stream",
     "text": [
      "Raised JSONRPCException while returning the custom response. Error message: {'code': -31003, 'message': 'Executing: Executing'}\n"
     ]
    },
    {
     "name": "stdout",
     "output_type": "stream",
     "text": [
      "{'code': -31003, 'message': 'Executing: Executing'} (Json rpc error), Retrying in 1 seconds...\n",
      "SCORE std_reference_proxy ::: Method deploy ::: Status: 1\n",
      "deploy_contract ->  1\n"
     ]
    }
   ],
   "source": [
    "proxy = deploy_contract(\"std_reference_proxy\",{\"_ref\":basic})"
   ]
  },
  {
   "cell_type": "code",
   "execution_count": 29,
   "metadata": {},
   "outputs": [
    {
     "name": "stdout",
     "output_type": "stream",
     "text": [
      "cx36a55b74aca43a9db9d5a8fc876c76d04daa85a2\n"
     ]
    }
   ],
   "source": [
    "print(proxy)"
   ]
  }
 ],
 "metadata": {
  "interpreter": {
   "hash": "1fe2fcaad7c0a9a1c28652ca88f4b3751c1c405b94f9bb0dc2755f67dddc579e"
  },
  "kernelspec": {
   "display_name": "Python 3.7.7 64-bit ('test': conda)",
   "name": "python3"
  },
  "language_info": {
   "codemirror_mode": {
    "name": "ipython",
    "version": 3
   },
   "file_extension": ".py",
   "mimetype": "text/x-python",
   "name": "python",
   "nbconvert_exporter": "python",
   "pygments_lexer": "ipython3",
   "version": "3.7.7"
  },
  "toc": {
   "base_numbering": 1,
   "nav_menu": {},
   "number_sections": true,
   "sideBar": true,
   "skip_h1_title": false,
   "title_cell": "Table of Contents",
   "title_sidebar": "Contents",
   "toc_cell": false,
   "toc_position": {},
   "toc_section_display": true,
   "toc_window_display": false
  }
 },
 "nbformat": 4,
 "nbformat_minor": 2
}
